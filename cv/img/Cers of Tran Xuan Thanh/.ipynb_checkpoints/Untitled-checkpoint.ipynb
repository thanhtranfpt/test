{
 "cells": [
  {
   "cell_type": "code",
   "execution_count": 18,
   "id": "4f937720",
   "metadata": {},
   "outputs": [],
   "source": [
    "def left(file):\n",
    "    return f\"\"\"\n",
    "    <div class=\"col-md-6 mb-4 portfolio-item first\">\n",
    "                                        <div class=\"position-relative overflow-hidden mb-2\">\n",
    "                                            <img class=\"img-fluid w-100\" src=\"img/Cers of Tran Xuan Thanh/{file}\" alt=\"\">\n",
    "                                            <div class=\"portfolio-btn d-flex align-items-center justify-content-center\">\n",
    "                                                <a href=\"img/Cers of Tran Xuan Thanh/{file}\" data-lightbox=\"portfolio\">\n",
    "                                                    <i class=\"fa fa-4x fa-plus text-white\"></i>\n",
    "                                                </a>\n",
    "                                            </div>\n",
    "                                        </div>\n",
    "                                    </div>\n",
    "    \"\"\""
   ]
  },
  {
   "cell_type": "code",
   "execution_count": null,
   "id": "9375197c",
   "metadata": {},
   "outputs": [],
   "source": []
  },
  {
   "cell_type": "code",
   "execution_count": 19,
   "id": "dc219183",
   "metadata": {},
   "outputs": [],
   "source": [
    "def right(file):\n",
    "    return f\"\"\"\n",
    "<div class=\"col-md-6 mb-4 portfolio-item second\">\n",
    "                                    <div class=\"position-relative overflow-hidden mb-2\">\n",
    "                                        <img class=\"img-fluid w-100\" src=\"img/Cers of Tran Xuan Thanh/{file}\" alt=\"\">\n",
    "                                        <div class=\"portfolio-btn d-flex align-items-center justify-content-center\">\n",
    "                                            <a href=\"img/Cers of Tran Xuan Thanh/{file}\" data-lightbox=\"portfolio\">\n",
    "                                                <i class=\"fa fa-4x fa-plus text-white\"></i>\n",
    "                                            </a>\n",
    "                                        </div>\n",
    "                                    </div>\n",
    "                                </div>\n",
    "\"\"\""
   ]
  },
  {
   "cell_type": "code",
   "execution_count": 20,
   "id": "0b4bed51",
   "metadata": {},
   "outputs": [],
   "source": [
    "import os"
   ]
  },
  {
   "cell_type": "code",
   "execution_count": 21,
   "id": "79f43e62",
   "metadata": {},
   "outputs": [
    {
     "data": {
      "text/plain": [
       "41"
      ]
     },
     "execution_count": 21,
     "metadata": {},
     "output_type": "execute_result"
    }
   ],
   "source": [
    "chil = os.listdir('chil')\n",
    "len(chil)"
   ]
  },
  {
   "cell_type": "code",
   "execution_count": 22,
   "id": "96608edb",
   "metadata": {},
   "outputs": [
    {
     "data": {
      "text/plain": [
       "92"
      ]
     },
     "execution_count": 22,
     "metadata": {},
     "output_type": "execute_result"
    }
   ],
   "source": [
    "uni = os.listdir('uni')\n",
    "len(uni)"
   ]
  },
  {
   "cell_type": "code",
   "execution_count": 23,
   "id": "ff1a2e79",
   "metadata": {},
   "outputs": [
    {
     "data": {
      "text/plain": [
       "92"
      ]
     },
     "execution_count": 23,
     "metadata": {},
     "output_type": "execute_result"
    }
   ],
   "source": [
    "max(len(chil),len(uni))"
   ]
  },
  {
   "cell_type": "code",
   "execution_count": 24,
   "id": "5a48ea16",
   "metadata": {},
   "outputs": [],
   "source": [
    "result = \"\"\n",
    "\n",
    "for i in range(41):\n",
    "    result += left('chil/' + chil[i]) + \"\\n\" + right('uni/' + uni[i]) + \"\\n <!-- END ONE LINE-->\"\n",
    "    \n",
    "for i in range(41, 92, 2):\n",
    "    result += left('uni/' + uni[i]) + \"\\n\" + right('uni/' + uni[i]) + \"\\n <!-- END ONE LINE--> \""
   ]
  },
  {
   "cell_type": "code",
   "execution_count": 26,
   "id": "bf63249a",
   "metadata": {},
   "outputs": [
    {
     "name": "stdout",
     "output_type": "stream",
     "text": [
      "File created and content written.\n"
     ]
    }
   ],
   "source": [
    "# Open a file for writing\n",
    "with open(\"result.txt\", \"w\") as file:\n",
    "    file.write(result)\n",
    "    # You can write more content to the file if needed\n",
    "\n",
    "print(\"File created and content written.\")\n"
   ]
  },
  {
   "cell_type": "code",
   "execution_count": null,
   "id": "e9dba68b",
   "metadata": {},
   "outputs": [],
   "source": []
  }
 ],
 "metadata": {
  "kernelspec": {
   "display_name": "Python 3 (ipykernel)",
   "language": "python",
   "name": "python3"
  },
  "language_info": {
   "codemirror_mode": {
    "name": "ipython",
    "version": 3
   },
   "file_extension": ".py",
   "mimetype": "text/x-python",
   "name": "python",
   "nbconvert_exporter": "python",
   "pygments_lexer": "ipython3",
   "version": "3.9.13"
  }
 },
 "nbformat": 4,
 "nbformat_minor": 5
}
